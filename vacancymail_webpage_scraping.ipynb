{
 "cells": [
  {
   "cell_type": "markdown",
   "id": "e3b79d75-d63e-4e11-b7ad-843cf9745ef3",
   "metadata": {},
   "source": [
    "### Web Scraping"
   ]
  },
  {
   "cell_type": "code",
   "execution_count": 1,
   "id": "6e62f4ef-725f-43c1-9f08-29783fe941dc",
   "metadata": {},
   "outputs": [
    {
     "name": "stdout",
     "output_type": "stream",
     "text": [
      "Title of the webpage: VacancyMail Jobs - Zimbabwe Jobs and Vacancies Portal – Jobs in Zimbabwe, Zimbabwe Jobs, NGO Jobs in Zimbabwe, Graduate Trainee Jobs, SundayMail Jobs, Zimbabwe Vacancies, Latest Jobs in Zimbabwe, Apprenticeship Jobs, College Intakes, Scholarships in Zimbabwe, scholarships of Zimbabweans, Apply for Jobs in Zimbabwe, Employment Agencies Zimbabwe, iharare Jobs, Kubatana Jobs, Interview Tips, Zimbabwe Jobs, Classifieds Zimbabwe, CV Writing Zimbabwe, CV templates, Recruitment Zimbabwe Jobs, Industrial Attachment Jobs, Attachment Zimbabwe, Full time Jobs, Part Time Jobs, Volunteering Jobs, Graduate Trainee Vacancies Zimbabwe, Internships Zimbabwe, Accounting Jobs Zimbabwe, Mining Jobs, Engineering Jobs Zimbabwe, Marketing Jobs Zimbabwe, Sales Jobs Zimbabwe, Teaching Jobs Zimbabwe, Nursing Vacancies Zimbabwe, Government Jobs in Zimbabwe, Zimbabwe Jobs, Diaspora Jobs For Zimbabweans, Vacancymail.co.zw, Recruitment Matters Zimbabwe, Careers Zimbabwe, ihararejobs.com, Ngo Jobs, Classifieds, Head Hunters Zimbabwe, Cv People Jobs Zimbabwe Latest Jobs And Vacancies Portal\n"
     ]
    }
   ],
   "source": [
    "# Load packages\n",
    "import requests\n",
    "from bs4 import BeautifulSoup\n",
    "\n",
    "# Specify the URL you want to scrape\n",
    "url = \"https://vacancymail.co.zw\"\n",
    "\n",
    "# Package the request, send the request and catch the response\n",
    "r = requests.get(url)\n",
    "\n",
    "# Extract the response as HTML\n",
    "html_doc = r.text\n",
    "\n",
    "# Create a BeautifulSoup object from the HTML\n",
    "soup = BeautifulSoup(html_doc, 'html.parser')\n",
    "\n",
    "# Get the title of the webpage\n",
    "title = soup.title.string\n",
    "print(f\"Title of the webpage: {title}\")\n"
   ]
  },
  {
   "cell_type": "code",
   "execution_count": 2,
   "id": "bcf5edc5-5637-4c18-b9eb-7909d9d3c382",
   "metadata": {},
   "outputs": [
    {
     "name": "stdout",
     "output_type": "stream",
     "text": [
      "/\n",
      "/jobs/\n",
      "/categories/\n",
      "/cv-search/\n",
      "/candidate/register/\n",
      "/employers/register/\n",
      "/login/\n",
      "#\n",
      "/login/\n",
      "/candidate/register/\n",
      "/employers/register/\n",
      "/organisations/sos-childrens-villages-zimbabwe-189/\n",
      "/organisations/health-professions-authority-zimbabwe-hpa-1014/\n",
      "/organisations/victoria-foods-3217/\n",
      "/organisations/gransharp-enterprises-pvt-ltd-2501/\n",
      "/organisations/webdev-group-414/\n",
      "/organisations/st-annes-hospital-2841/\n",
      "/organisations/willowvale-motor-industries-pvt-ltd-4106/\n",
      "/organisations/wiruma-3579/\n",
      "/organisations/signal-telecom-solutions-1923/\n",
      "/organisations/secondary-book-press-869/\n",
      "/organisations/christian-care-1610/\n",
      "/organisations/veer-freight-private-limited-1380/\n",
      "/organisations/timb-1362/\n",
      "/organisations/zimbabwe-technical-assistance-training-and-education-center-for-health-zim-ttech-1888/\n",
      "/organisations/catholic-relief-services-2027/\n",
      "/organisations/zimbabwe-association-of-church-related-hospitals-zach-1698/\n",
      "/organisations/croco-motors-1141/\n",
      "/organisations/zimbabwe-environmental-law-association-zela-1614/\n",
      "/categories/ict-computer-jobs-in-zimbabwe/\n",
      "/categories/ngo-social-services-jobs-in-zimbabwe/\n",
      "/categories/manufacturing-jobs-in-zimbabwe/\n",
      "/categories/sales-marketing-jobs-in-zimbabwe/\n",
      "/categories/engineering-jobs-in-zimbabwe/\n",
      "/categories/mining-jobs-in-zimbabwe/\n",
      "/categories/accounting-finance-jobs-in-zimbabwe/\n",
      "/categories/security-jobs-in-zimbabwe/\n",
      "/categories/attachment-internship-jobs-in-zimbabwe/\n",
      "/categories/driving-logistics-jobs-in-zimbabwe/\n",
      "/categories/\n",
      "/location/botswana/\n",
      "/location/malawi/\n",
      "/location/bulawayojobs/\n",
      "/location/matabeleland-southjobs/\n",
      "/location/masvingojobs/\n",
      "/location/midlandsjobs/\n",
      "/location/mashonaland-eastjobs/\n",
      "/location/mashonaland-centraljobs/\n",
      "/location/manicalandjobs/\n",
      "/location/hararejobs/\n",
      "/location/matabeleland-northjobs/\n",
      "/location/mashonaland-westjobs/\n",
      "/location/nkayi/\n",
      "/location/south-africa/\n",
      "/location/zambia/\n",
      "/jobs/\n",
      "/jobs/volunteer-procurement-administration-60922/\n",
      "/jobs/customer-service-representative-60909/\n",
      "/jobs/marketing-assistant-60888/\n",
      "/jobs/sales-and-marketing-personnel-60882/\n",
      "/jobs/accounts-attache-60879/\n",
      "/jobs/sales-marketing-representative-60873/\n",
      "/jobs/driver-x-5-60775/\n",
      "/jobs/team-leader-60774/\n",
      "/jobs/financial-management-and-operations-director-60747/\n",
      "/jobs/shopkeeper-on-site-at-farm-shop-60742/\n",
      "/jobs/\n",
      "https://www.facebook.com/VacancyMailZW/\n",
      "https://twitter.com/VacancyMail\n",
      "https://www.linkedin.com/company/vacancymail-co-zw/\n",
      "/jobs/\n",
      "/categories/\n",
      "/candidate/my_curriculum_vitae/\n",
      "/premium/\n",
      "/organisations/\n",
      "/testimonials/\n",
      "/cv-search/\n",
      "/employer/create_new_vacancy/\n",
      "/about-us/\n",
      "/contact-us/\n",
      "/terms_conditions_privacy/\n",
      "/cookies/\n",
      "/disclaimer/\n",
      "/login/\n",
      "/candidate/register/\n",
      "/employers/register/\n",
      "https://blog.vacancymail.co.za/\n",
      "https://savannanews.com/\n"
     ]
    }
   ],
   "source": [
    "# Get and print all the links on the webpage\n",
    "for link in soup.find_all(\"a\"):\n",
    "    print(link.get(\"href\"))"
   ]
  },
  {
   "cell_type": "code",
   "execution_count": null,
   "id": "106ede6e-73c5-4867-8834-2c85e6fab3b9",
   "metadata": {},
   "outputs": [],
   "source": []
  }
 ],
 "metadata": {
  "kernelspec": {
   "display_name": "Python 3 (ipykernel)",
   "language": "python",
   "name": "python3"
  },
  "language_info": {
   "codemirror_mode": {
    "name": "ipython",
    "version": 3
   },
   "file_extension": ".py",
   "mimetype": "text/x-python",
   "name": "python",
   "nbconvert_exporter": "python",
   "pygments_lexer": "ipython3",
   "version": "3.12.4"
  }
 },
 "nbformat": 4,
 "nbformat_minor": 5
}
